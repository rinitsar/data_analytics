{
 "cells": [
  {
   "cell_type": "markdown",
   "id": "3272230e",
   "metadata": {},
   "source": [
    "# Importing and preparing supermarkets data"
   ]
  },
  {
   "cell_type": "markdown",
   "id": "abe67fc9",
   "metadata": {},
   "source": [
    "## Libraries and settings"
   ]
  },
  {
   "cell_type": "code",
   "execution_count": 145,
   "id": "cbff58c8",
   "metadata": {},
   "outputs": [
    {
     "name": "stdout",
     "output_type": "stream",
     "text": [
      "Current working directory: /workspaces/data_analytics/Week_02\n",
      "supermarkets.json\n"
     ]
    }
   ],
   "source": [
    "# Libraries\n",
    "import os\n",
    "import fnmatch\n",
    "import pandas as pd\n",
    "\n",
    "# Ignore warnings\n",
    "import warnings\n",
    "warnings.filterwarnings(\"ignore\")\n",
    "\n",
    "# Get current working directory\n",
    "print('Current working directory:', os.getcwd())\n",
    "\n",
    "# Show .json files in the current working directory\n",
    "flist = fnmatch.filter(os.listdir('.'), '*.json')\n",
    "for i in flist:\n",
    "    print(i)"
   ]
  },
  {
   "cell_type": "markdown",
   "id": "2a7bff4a",
   "metadata": {},
   "source": [
    "## Importing data"
   ]
  },
  {
   "cell_type": "code",
   "execution_count": 146,
   "id": "aa8f37dd",
   "metadata": {
    "scrolled": true
   },
   "outputs": [
    {
     "data": {
      "text/html": [
       "<div>\n",
       "<style scoped>\n",
       "    .dataframe tbody tr th:only-of-type {\n",
       "        vertical-align: middle;\n",
       "    }\n",
       "\n",
       "    .dataframe tbody tr th {\n",
       "        vertical-align: top;\n",
       "    }\n",
       "\n",
       "    .dataframe thead th {\n",
       "        text-align: right;\n",
       "    }\n",
       "</style>\n",
       "<table border=\"1\" class=\"dataframe\">\n",
       "  <thead>\n",
       "    <tr style=\"text-align: right;\">\n",
       "      <th></th>\n",
       "      <th>type</th>\n",
       "      <th>id</th>\n",
       "      <th>lat</th>\n",
       "      <th>lon</th>\n",
       "      <th>tags</th>\n",
       "    </tr>\n",
       "  </thead>\n",
       "  <tbody>\n",
       "    <tr>\n",
       "      <th>0</th>\n",
       "      <td>node</td>\n",
       "      <td>33126515</td>\n",
       "      <td>47.155616</td>\n",
       "      <td>9.037915</td>\n",
       "      <td>{'brand': 'Spar', 'brand:wikidata': 'Q610492',...</td>\n",
       "    </tr>\n",
       "    <tr>\n",
       "      <th>1</th>\n",
       "      <td>node</td>\n",
       "      <td>36726161</td>\n",
       "      <td>47.226191</td>\n",
       "      <td>8.980329</td>\n",
       "      <td>{'addr:city': 'Uznach', 'addr:housenumber': '2...</td>\n",
       "    </tr>\n",
       "    <tr>\n",
       "      <th>2</th>\n",
       "      <td>node</td>\n",
       "      <td>39768209</td>\n",
       "      <td>47.225069</td>\n",
       "      <td>8.969981</td>\n",
       "      <td>{'addr:city': 'Uznach', 'addr:postcode': '8730...</td>\n",
       "    </tr>\n",
       "    <tr>\n",
       "      <th>3</th>\n",
       "      <td>node</td>\n",
       "      <td>39947904</td>\n",
       "      <td>47.376732</td>\n",
       "      <td>8.542161</td>\n",
       "      <td>{'addr:city': 'Zürich', 'addr:country': 'CH', ...</td>\n",
       "    </tr>\n",
       "    <tr>\n",
       "      <th>4</th>\n",
       "      <td>node</td>\n",
       "      <td>48932835</td>\n",
       "      <td>47.375020</td>\n",
       "      <td>8.522895</td>\n",
       "      <td>{'addr:city': 'Zürich', 'addr:housenumber': '7...</td>\n",
       "    </tr>\n",
       "  </tbody>\n",
       "</table>\n",
       "</div>"
      ],
      "text/plain": [
       "   type        id        lat       lon  \\\n",
       "0  node  33126515  47.155616  9.037915   \n",
       "1  node  36726161  47.226191  8.980329   \n",
       "2  node  39768209  47.225069  8.969981   \n",
       "3  node  39947904  47.376732  8.542161   \n",
       "4  node  48932835  47.375020  8.522895   \n",
       "\n",
       "                                                tags  \n",
       "0  {'brand': 'Spar', 'brand:wikidata': 'Q610492',...  \n",
       "1  {'addr:city': 'Uznach', 'addr:housenumber': '2...  \n",
       "2  {'addr:city': 'Uznach', 'addr:postcode': '8730...  \n",
       "3  {'addr:city': 'Zürich', 'addr:country': 'CH', ...  \n",
       "4  {'addr:city': 'Zürich', 'addr:housenumber': '7...  "
      ]
     },
     "execution_count": 146,
     "metadata": {},
     "output_type": "execute_result"
    }
   ],
   "source": [
    "# Read the data to a pandas data frame\n",
    "df1 = pd.read_json('supermarkets.json', encoding='utf-8')\n",
    "df1.head(5)"
   ]
  },
  {
   "cell_type": "markdown",
   "id": "b95e9f0e",
   "metadata": {},
   "source": [
    "## Count number of rows and columns in the data frame"
   ]
  },
  {
   "cell_type": "code",
   "execution_count": 147,
   "id": "ec7391ad",
   "metadata": {},
   "outputs": [
    {
     "name": "stdout",
     "output_type": "stream",
     "text": [
      "Dimension: (3392, 5)\n",
      "Number of rows: 3392\n",
      "Number of columns: 5\n"
     ]
    }
   ],
   "source": [
    "# Dimension (rows, columns)\n",
    "print('Dimension:', df1.shape)\n",
    "\n",
    "# Number of rows\n",
    "print('Number of rows:', df1.shape[0])\n",
    "\n",
    "# Number of columns\n",
    "print('Number of columns:', df1.shape[1])"
   ]
  },
  {
   "cell_type": "markdown",
   "id": "e87e78e7",
   "metadata": {},
   "source": [
    "## Column 'tags' is a pandas Series with dictionaries -> change to data frame"
   ]
  },
  {
   "cell_type": "code",
   "execution_count": 148,
   "id": "b4aacf01",
   "metadata": {},
   "outputs": [
    {
     "name": "stdout",
     "output_type": "stream",
     "text": [
      "<class 'pandas.core.series.Series'>\n",
      "<class 'dict'>\n",
      "dict_keys(['brand', 'brand:wikidata', 'brand:wikipedia', 'name', 'opening_hours', 'shop'])\n"
     ]
    },
    {
     "data": {
      "text/html": [
       "<div>\n",
       "<style scoped>\n",
       "    .dataframe tbody tr th:only-of-type {\n",
       "        vertical-align: middle;\n",
       "    }\n",
       "\n",
       "    .dataframe tbody tr th {\n",
       "        vertical-align: top;\n",
       "    }\n",
       "\n",
       "    .dataframe thead th {\n",
       "        text-align: right;\n",
       "    }\n",
       "</style>\n",
       "<table border=\"1\" class=\"dataframe\">\n",
       "  <thead>\n",
       "    <tr style=\"text-align: right;\">\n",
       "      <th></th>\n",
       "      <th>brand</th>\n",
       "      <th>shop</th>\n",
       "      <th>city</th>\n",
       "      <th>street</th>\n",
       "      <th>housenumber</th>\n",
       "      <th>postcode</th>\n",
       "    </tr>\n",
       "  </thead>\n",
       "  <tbody>\n",
       "    <tr>\n",
       "      <th>0</th>\n",
       "      <td>Spar</td>\n",
       "      <td>supermarket</td>\n",
       "      <td>NaN</td>\n",
       "      <td>NaN</td>\n",
       "      <td>NaN</td>\n",
       "      <td>NaN</td>\n",
       "    </tr>\n",
       "    <tr>\n",
       "      <th>1</th>\n",
       "      <td>Migros</td>\n",
       "      <td>supermarket</td>\n",
       "      <td>Uznach</td>\n",
       "      <td>Zürcherstrasse</td>\n",
       "      <td>25</td>\n",
       "      <td>8730</td>\n",
       "    </tr>\n",
       "    <tr>\n",
       "      <th>2</th>\n",
       "      <td>Coop</td>\n",
       "      <td>supermarket</td>\n",
       "      <td>Uznach</td>\n",
       "      <td>NaN</td>\n",
       "      <td>NaN</td>\n",
       "      <td>8730</td>\n",
       "    </tr>\n",
       "    <tr>\n",
       "      <th>3</th>\n",
       "      <td>Coop</td>\n",
       "      <td>supermarket</td>\n",
       "      <td>Zürich</td>\n",
       "      <td>Bahnhofbrücke</td>\n",
       "      <td>1</td>\n",
       "      <td>8001</td>\n",
       "    </tr>\n",
       "    <tr>\n",
       "      <th>4</th>\n",
       "      <td>Migros</td>\n",
       "      <td>supermarket</td>\n",
       "      <td>Zürich</td>\n",
       "      <td>Wengistrasse</td>\n",
       "      <td>7</td>\n",
       "      <td>8004</td>\n",
       "    </tr>\n",
       "  </tbody>\n",
       "</table>\n",
       "</div>"
      ],
      "text/plain": [
       "    brand         shop    city          street housenumber postcode\n",
       "0    Spar  supermarket     NaN             NaN         NaN      NaN\n",
       "1  Migros  supermarket  Uznach  Zürcherstrasse          25     8730\n",
       "2    Coop  supermarket  Uznach             NaN         NaN     8730\n",
       "3    Coop  supermarket  Zürich   Bahnhofbrücke           1     8001\n",
       "4  Migros  supermarket  Zürich    Wengistrasse           7     8004"
      ]
     },
     "execution_count": 148,
     "metadata": {},
     "output_type": "execute_result"
    }
   ],
   "source": [
    "# Type of the first item of column tags\n",
    "print(type(df1.tags))\n",
    "print(type(df1.tags[0]))\n",
    "\n",
    "# Content of the first item of column tags\n",
    "print(df1.tags[0].keys())\n",
    "\n",
    "# Change to data frame\n",
    "df2 = pd.DataFrame.from_records(df1.tags)\n",
    "df2 = df2[['brand', 'shop', 'addr:city', 'addr:street', 'addr:housenumber', 'addr:postcode']]\n",
    "\n",
    "# Rename selected columns\n",
    "df2 = df2.rename(columns={'addr:city': 'city',\n",
    "                          'addr:street':'street',\n",
    "                          'addr:housenumber': 'housenumber',\n",
    "                          'addr:postcode': 'postcode'})\n",
    "\n",
    "# Show first records of data frame\n",
    "df2.head()"
   ]
  },
  {
   "cell_type": "markdown",
   "id": "e801ae61",
   "metadata": {},
   "source": [
    "## Merge df1 and df2"
   ]
  },
  {
   "cell_type": "code",
   "execution_count": 149,
   "id": "0a78ba35",
   "metadata": {},
   "outputs": [
    {
     "data": {
      "text/html": [
       "<div>\n",
       "<style scoped>\n",
       "    .dataframe tbody tr th:only-of-type {\n",
       "        vertical-align: middle;\n",
       "    }\n",
       "\n",
       "    .dataframe tbody tr th {\n",
       "        vertical-align: top;\n",
       "    }\n",
       "\n",
       "    .dataframe thead th {\n",
       "        text-align: right;\n",
       "    }\n",
       "</style>\n",
       "<table border=\"1\" class=\"dataframe\">\n",
       "  <thead>\n",
       "    <tr style=\"text-align: right;\">\n",
       "      <th></th>\n",
       "      <th>type</th>\n",
       "      <th>id</th>\n",
       "      <th>lat</th>\n",
       "      <th>lon</th>\n",
       "      <th>brand</th>\n",
       "      <th>shop</th>\n",
       "      <th>city</th>\n",
       "      <th>street</th>\n",
       "      <th>housenumber</th>\n",
       "      <th>postcode</th>\n",
       "    </tr>\n",
       "  </thead>\n",
       "  <tbody>\n",
       "    <tr>\n",
       "      <th>0</th>\n",
       "      <td>node</td>\n",
       "      <td>33126515</td>\n",
       "      <td>47.155616</td>\n",
       "      <td>9.037915</td>\n",
       "      <td>Spar</td>\n",
       "      <td>supermarket</td>\n",
       "      <td>NaN</td>\n",
       "      <td>NaN</td>\n",
       "      <td>NaN</td>\n",
       "      <td>NaN</td>\n",
       "    </tr>\n",
       "    <tr>\n",
       "      <th>1</th>\n",
       "      <td>node</td>\n",
       "      <td>36726161</td>\n",
       "      <td>47.226191</td>\n",
       "      <td>8.980329</td>\n",
       "      <td>Migros</td>\n",
       "      <td>supermarket</td>\n",
       "      <td>Uznach</td>\n",
       "      <td>Zürcherstrasse</td>\n",
       "      <td>25</td>\n",
       "      <td>8730</td>\n",
       "    </tr>\n",
       "    <tr>\n",
       "      <th>2</th>\n",
       "      <td>node</td>\n",
       "      <td>39768209</td>\n",
       "      <td>47.225069</td>\n",
       "      <td>8.969981</td>\n",
       "      <td>Coop</td>\n",
       "      <td>supermarket</td>\n",
       "      <td>Uznach</td>\n",
       "      <td>NaN</td>\n",
       "      <td>NaN</td>\n",
       "      <td>8730</td>\n",
       "    </tr>\n",
       "    <tr>\n",
       "      <th>3</th>\n",
       "      <td>node</td>\n",
       "      <td>39947904</td>\n",
       "      <td>47.376732</td>\n",
       "      <td>8.542161</td>\n",
       "      <td>Coop</td>\n",
       "      <td>supermarket</td>\n",
       "      <td>Zürich</td>\n",
       "      <td>Bahnhofbrücke</td>\n",
       "      <td>1</td>\n",
       "      <td>8001</td>\n",
       "    </tr>\n",
       "    <tr>\n",
       "      <th>4</th>\n",
       "      <td>node</td>\n",
       "      <td>48932835</td>\n",
       "      <td>47.375020</td>\n",
       "      <td>8.522895</td>\n",
       "      <td>Migros</td>\n",
       "      <td>supermarket</td>\n",
       "      <td>Zürich</td>\n",
       "      <td>Wengistrasse</td>\n",
       "      <td>7</td>\n",
       "      <td>8004</td>\n",
       "    </tr>\n",
       "  </tbody>\n",
       "</table>\n",
       "</div>"
      ],
      "text/plain": [
       "   type        id        lat       lon   brand         shop    city  \\\n",
       "0  node  33126515  47.155616  9.037915    Spar  supermarket     NaN   \n",
       "1  node  36726161  47.226191  8.980329  Migros  supermarket  Uznach   \n",
       "2  node  39768209  47.225069  8.969981    Coop  supermarket  Uznach   \n",
       "3  node  39947904  47.376732  8.542161    Coop  supermarket  Zürich   \n",
       "4  node  48932835  47.375020  8.522895  Migros  supermarket  Zürich   \n",
       "\n",
       "           street housenumber postcode  \n",
       "0             NaN         NaN      NaN  \n",
       "1  Zürcherstrasse          25     8730  \n",
       "2             NaN         NaN     8730  \n",
       "3   Bahnhofbrücke           1     8001  \n",
       "4    Wengistrasse           7     8004  "
      ]
     },
     "execution_count": 149,
     "metadata": {},
     "output_type": "execute_result"
    }
   ],
   "source": [
    "# Merge df and df2\n",
    "df = pd.merge(df1[['type', 'id', 'lat', 'lon']], \n",
    "              df2[['brand', 'shop', 'city', 'street', 'housenumber', 'postcode']],\n",
    "              left_index=True, \n",
    "              right_index=True)\n",
    "df.head(5)"
   ]
  },
  {
   "cell_type": "markdown",
   "id": "621b8ae9",
   "metadata": {},
   "source": [
    "## Count and identify the number of missing values (if any)"
   ]
  },
  {
   "cell_type": "code",
   "execution_count": 150,
   "id": "67773d99",
   "metadata": {},
   "outputs": [
    {
     "name": "stdout",
     "output_type": "stream",
     "text": [
      "type              0\n",
      "id                0\n",
      "lat               0\n",
      "lon               0\n",
      "brand          1065\n",
      "shop              0\n",
      "city           1777\n",
      "street         1608\n",
      "housenumber    1680\n",
      "postcode       1709\n",
      "dtype: int64\n"
     ]
    },
    {
     "data": {
      "text/html": [
       "<div>\n",
       "<style scoped>\n",
       "    .dataframe tbody tr th:only-of-type {\n",
       "        vertical-align: middle;\n",
       "    }\n",
       "\n",
       "    .dataframe tbody tr th {\n",
       "        vertical-align: top;\n",
       "    }\n",
       "\n",
       "    .dataframe thead th {\n",
       "        text-align: right;\n",
       "    }\n",
       "</style>\n",
       "<table border=\"1\" class=\"dataframe\">\n",
       "  <thead>\n",
       "    <tr style=\"text-align: right;\">\n",
       "      <th></th>\n",
       "      <th>type</th>\n",
       "      <th>id</th>\n",
       "      <th>lat</th>\n",
       "      <th>lon</th>\n",
       "      <th>brand</th>\n",
       "      <th>shop</th>\n",
       "      <th>city</th>\n",
       "      <th>street</th>\n",
       "      <th>housenumber</th>\n",
       "      <th>postcode</th>\n",
       "    </tr>\n",
       "  </thead>\n",
       "  <tbody>\n",
       "    <tr>\n",
       "      <th>0</th>\n",
       "      <td>node</td>\n",
       "      <td>33126515</td>\n",
       "      <td>47.155616</td>\n",
       "      <td>9.037915</td>\n",
       "      <td>Spar</td>\n",
       "      <td>supermarket</td>\n",
       "      <td>NaN</td>\n",
       "      <td>NaN</td>\n",
       "      <td>NaN</td>\n",
       "      <td>NaN</td>\n",
       "    </tr>\n",
       "    <tr>\n",
       "      <th>5</th>\n",
       "      <td>node</td>\n",
       "      <td>60271452</td>\n",
       "      <td>47.406671</td>\n",
       "      <td>9.305450</td>\n",
       "      <td>NaN</td>\n",
       "      <td>supermarket</td>\n",
       "      <td>NaN</td>\n",
       "      <td>NaN</td>\n",
       "      <td>NaN</td>\n",
       "      <td>NaN</td>\n",
       "    </tr>\n",
       "    <tr>\n",
       "      <th>6</th>\n",
       "      <td>node</td>\n",
       "      <td>70656485</td>\n",
       "      <td>47.491253</td>\n",
       "      <td>8.733981</td>\n",
       "      <td>NaN</td>\n",
       "      <td>supermarket</td>\n",
       "      <td>NaN</td>\n",
       "      <td>NaN</td>\n",
       "      <td>NaN</td>\n",
       "      <td>NaN</td>\n",
       "    </tr>\n",
       "    <tr>\n",
       "      <th>10</th>\n",
       "      <td>node</td>\n",
       "      <td>81321513</td>\n",
       "      <td>47.532917</td>\n",
       "      <td>9.066408</td>\n",
       "      <td>Landi</td>\n",
       "      <td>supermarket</td>\n",
       "      <td>NaN</td>\n",
       "      <td>NaN</td>\n",
       "      <td>NaN</td>\n",
       "      <td>NaN</td>\n",
       "    </tr>\n",
       "    <tr>\n",
       "      <th>13</th>\n",
       "      <td>node</td>\n",
       "      <td>95582038</td>\n",
       "      <td>47.050385</td>\n",
       "      <td>9.059214</td>\n",
       "      <td>NaN</td>\n",
       "      <td>supermarket</td>\n",
       "      <td>NaN</td>\n",
       "      <td>NaN</td>\n",
       "      <td>NaN</td>\n",
       "      <td>NaN</td>\n",
       "    </tr>\n",
       "    <tr>\n",
       "      <th>...</th>\n",
       "      <td>...</td>\n",
       "      <td>...</td>\n",
       "      <td>...</td>\n",
       "      <td>...</td>\n",
       "      <td>...</td>\n",
       "      <td>...</td>\n",
       "      <td>...</td>\n",
       "      <td>...</td>\n",
       "      <td>...</td>\n",
       "      <td>...</td>\n",
       "    </tr>\n",
       "    <tr>\n",
       "      <th>3384</th>\n",
       "      <td>node</td>\n",
       "      <td>11083317088</td>\n",
       "      <td>46.862184</td>\n",
       "      <td>9.531169</td>\n",
       "      <td>Lidl</td>\n",
       "      <td>supermarket</td>\n",
       "      <td>NaN</td>\n",
       "      <td>NaN</td>\n",
       "      <td>NaN</td>\n",
       "      <td>NaN</td>\n",
       "    </tr>\n",
       "    <tr>\n",
       "      <th>3386</th>\n",
       "      <td>node</td>\n",
       "      <td>11098091830</td>\n",
       "      <td>46.205111</td>\n",
       "      <td>6.130174</td>\n",
       "      <td>Coop</td>\n",
       "      <td>supermarket</td>\n",
       "      <td>NaN</td>\n",
       "      <td>NaN</td>\n",
       "      <td>NaN</td>\n",
       "      <td>NaN</td>\n",
       "    </tr>\n",
       "    <tr>\n",
       "      <th>3387</th>\n",
       "      <td>node</td>\n",
       "      <td>11099817248</td>\n",
       "      <td>46.928691</td>\n",
       "      <td>7.561873</td>\n",
       "      <td>NaN</td>\n",
       "      <td>supermarket</td>\n",
       "      <td>NaN</td>\n",
       "      <td>NaN</td>\n",
       "      <td>NaN</td>\n",
       "      <td>NaN</td>\n",
       "    </tr>\n",
       "    <tr>\n",
       "      <th>3388</th>\n",
       "      <td>node</td>\n",
       "      <td>11103235832</td>\n",
       "      <td>46.166742</td>\n",
       "      <td>8.771970</td>\n",
       "      <td>Migros</td>\n",
       "      <td>supermarket</td>\n",
       "      <td>NaN</td>\n",
       "      <td>NaN</td>\n",
       "      <td>NaN</td>\n",
       "      <td>NaN</td>\n",
       "    </tr>\n",
       "    <tr>\n",
       "      <th>3391</th>\n",
       "      <td>node</td>\n",
       "      <td>11129298207</td>\n",
       "      <td>47.537518</td>\n",
       "      <td>7.608581</td>\n",
       "      <td>Coop</td>\n",
       "      <td>supermarket</td>\n",
       "      <td>NaN</td>\n",
       "      <td>NaN</td>\n",
       "      <td>NaN</td>\n",
       "      <td>NaN</td>\n",
       "    </tr>\n",
       "  </tbody>\n",
       "</table>\n",
       "<p>1777 rows × 10 columns</p>\n",
       "</div>"
      ],
      "text/plain": [
       "      type           id        lat       lon   brand         shop city street  \\\n",
       "0     node     33126515  47.155616  9.037915    Spar  supermarket  NaN    NaN   \n",
       "5     node     60271452  47.406671  9.305450     NaN  supermarket  NaN    NaN   \n",
       "6     node     70656485  47.491253  8.733981     NaN  supermarket  NaN    NaN   \n",
       "10    node     81321513  47.532917  9.066408   Landi  supermarket  NaN    NaN   \n",
       "13    node     95582038  47.050385  9.059214     NaN  supermarket  NaN    NaN   \n",
       "...    ...          ...        ...       ...     ...          ...  ...    ...   \n",
       "3384  node  11083317088  46.862184  9.531169    Lidl  supermarket  NaN    NaN   \n",
       "3386  node  11098091830  46.205111  6.130174    Coop  supermarket  NaN    NaN   \n",
       "3387  node  11099817248  46.928691  7.561873     NaN  supermarket  NaN    NaN   \n",
       "3388  node  11103235832  46.166742  8.771970  Migros  supermarket  NaN    NaN   \n",
       "3391  node  11129298207  47.537518  7.608581    Coop  supermarket  NaN    NaN   \n",
       "\n",
       "     housenumber postcode  \n",
       "0            NaN      NaN  \n",
       "5            NaN      NaN  \n",
       "6            NaN      NaN  \n",
       "10           NaN      NaN  \n",
       "13           NaN      NaN  \n",
       "...          ...      ...  \n",
       "3384         NaN      NaN  \n",
       "3386         NaN      NaN  \n",
       "3387         NaN      NaN  \n",
       "3388         NaN      NaN  \n",
       "3391         NaN      NaN  \n",
       "\n",
       "[1777 rows x 10 columns]"
      ]
     },
     "execution_count": 150,
     "metadata": {},
     "output_type": "execute_result"
    }
   ],
   "source": [
    "# Count missing values\n",
    "print(pd.isna(df).sum())\n",
    "\n",
    "# Identify rows with missing values, e.g.:\n",
    "df.loc[pd.isna(df['city'])]"
   ]
  },
  {
   "cell_type": "markdown",
   "id": "240063a9",
   "metadata": {},
   "source": [
    "## Count and identify duplicated values (if any)"
   ]
  },
  {
   "cell_type": "code",
   "execution_count": 151,
   "id": "5329c099",
   "metadata": {},
   "outputs": [
    {
     "name": "stdout",
     "output_type": "stream",
     "text": [
      "0\n"
     ]
    },
    {
     "data": {
      "text/html": [
       "<div>\n",
       "<style scoped>\n",
       "    .dataframe tbody tr th:only-of-type {\n",
       "        vertical-align: middle;\n",
       "    }\n",
       "\n",
       "    .dataframe tbody tr th {\n",
       "        vertical-align: top;\n",
       "    }\n",
       "\n",
       "    .dataframe thead th {\n",
       "        text-align: right;\n",
       "    }\n",
       "</style>\n",
       "<table border=\"1\" class=\"dataframe\">\n",
       "  <thead>\n",
       "    <tr style=\"text-align: right;\">\n",
       "      <th></th>\n",
       "      <th>type</th>\n",
       "      <th>id</th>\n",
       "      <th>lat</th>\n",
       "      <th>lon</th>\n",
       "      <th>brand</th>\n",
       "      <th>shop</th>\n",
       "      <th>city</th>\n",
       "      <th>street</th>\n",
       "      <th>housenumber</th>\n",
       "      <th>postcode</th>\n",
       "    </tr>\n",
       "  </thead>\n",
       "  <tbody>\n",
       "  </tbody>\n",
       "</table>\n",
       "</div>"
      ],
      "text/plain": [
       "Empty DataFrame\n",
       "Columns: [type, id, lat, lon, brand, shop, city, street, housenumber, postcode]\n",
       "Index: []"
      ]
     },
     "execution_count": 151,
     "metadata": {},
     "output_type": "execute_result"
    }
   ],
   "source": [
    "# Count duplicated values\n",
    "print(df.duplicated().sum())\n",
    "\n",
    "# Identify rows with duplicated values, e.g.:\n",
    "df[df[['id']].duplicated()]"
   ]
  },
  {
   "cell_type": "markdown",
   "id": "ace6d22c",
   "metadata": {},
   "source": [
    "## Get data types of all variables"
   ]
  },
  {
   "cell_type": "code",
   "execution_count": 152,
   "id": "dd9244a5",
   "metadata": {},
   "outputs": [
    {
     "data": {
      "text/plain": [
       "type            object\n",
       "id               int64\n",
       "lat            float64\n",
       "lon            float64\n",
       "brand           object\n",
       "shop            object\n",
       "city            object\n",
       "street          object\n",
       "housenumber     object\n",
       "postcode        object\n",
       "dtype: object"
      ]
     },
     "execution_count": 152,
     "metadata": {},
     "output_type": "execute_result"
    }
   ],
   "source": [
    "# Get data types (note that in pandas, a string is referred to as 'object')\n",
    "df.dtypes"
   ]
  },
  {
   "cell_type": "markdown",
   "id": "165f8f9f",
   "metadata": {},
   "source": [
    "### Save data to file"
   ]
  },
  {
   "cell_type": "code",
   "execution_count": 153,
   "id": "3c2773d3",
   "metadata": {},
   "outputs": [],
   "source": [
    "df.to_csv('supermarkets_data_prepared.csv', \n",
    "          sep=\",\", \n",
    "          encoding='utf-8',\n",
    "          index=False)"
   ]
  },
  {
   "cell_type": "markdown",
   "id": "92d6ded4",
   "metadata": {},
   "source": [
    "### Task 3 Additional filters on supermarkets"
   ]
  },
  {
   "cell_type": "code",
   "execution_count": 154,
   "id": "b74ff4f8",
   "metadata": {},
   "outputs": [],
   "source": [
    "# f)\n",
    "df_filtered = df.loc[(df['brand'] == 'Migros') & (df['city'] == 'Zürich')]\n"
   ]
  },
  {
   "cell_type": "code",
   "execution_count": 155,
   "id": "7e267f15",
   "metadata": {},
   "outputs": [
    {
     "name": "stdout",
     "output_type": "stream",
     "text": [
      "(125, 10)\n"
     ]
    }
   ],
   "source": [
    "# g)\n",
    "df_filteredc = df.loc[(df['brand'] == 'Coop') & (df['city'] == 'Zürich') | (df['city'] == 'Bern') | (df['city'] == 'Basel')]\n",
    "print(df_filteredc.shape)"
   ]
  },
  {
   "cell_type": "code",
   "execution_count": 156,
   "id": "3e056c1f",
   "metadata": {},
   "outputs": [
    {
     "name": "stdout",
     "output_type": "stream",
     "text": [
      "      type           id        lat       lon   brand         shop  \\\n",
      "1     node     36726161  47.226191  8.980329  Migros  supermarket   \n",
      "3     node     39947904  47.376732  8.542161    Coop  supermarket   \n",
      "4     node     48932835  47.375020  8.522895  Migros  supermarket   \n",
      "7     node     70656488  47.491874  8.706448  Migros  supermarket   \n",
      "8     node     75749133  47.340967  8.530601    ALDI  supermarket   \n",
      "...    ...          ...        ...       ...     ...          ...   \n",
      "3350  node  10814018169  47.353857  8.436716    Coop  supermarket   \n",
      "3362  node  10982669725  47.349782  8.258690    ALDI  supermarket   \n",
      "3370  node  11025130806  47.059301  7.620697  Denner  supermarket   \n",
      "3378  node  11049758254  47.338327  8.520261    Spar  supermarket   \n",
      "3385  node  11096932868  46.309025  7.969107  Denner  supermarket   \n",
      "\n",
      "                  city          street housenumber postcode  \n",
      "1               Uznach  Zürcherstrasse          25     8730  \n",
      "3               Zürich   Bahnhofbrücke           1     8001  \n",
      "4               Zürich    Wengistrasse           7     8004  \n",
      "7           Winterthur  Zürcherstrasse         102     8406  \n",
      "8               Zürich    Albisstrasse          81     8038  \n",
      "...                ...             ...         ...      ...  \n",
      "3350  Birmensdorf (ZH)  Zürcherstrasse           9     8903  \n",
      "3362        Villmergen        Grenzweg           3     5612  \n",
      "3370          Burgdorf  Lyssachstrasse          27     3400  \n",
      "3378            Zürich  Spinnereiplatz           4     8041  \n",
      "3385         Brig-Glis  Kantonsstrasse          58     3902  \n",
      "\n",
      "[1148 rows x 10 columns]\n"
     ]
    }
   ],
   "source": [
    "#h)\n",
    "df_filtered_supermarkets = df[df['brand'].notnull() & df['city'].notnull() & df['housenumber'].notnull() & df['postcode'].notnull()]\n",
    "print(df_filtered_supermarkets)"
   ]
  },
  {
   "cell_type": "code",
   "execution_count": 157,
   "id": "30d5333e",
   "metadata": {},
   "outputs": [
    {
     "name": "stdout",
     "output_type": "stream",
     "text": [
      "     type   brand         shop      city           street housenumber  \\\n",
      "0     NaN    Spar  supermarket       NaN              NaN         NaN   \n",
      "1     NaN  Migros  supermarket    Uznach   Zürcherstrasse          25   \n",
      "2     NaN    Coop  supermarket    Uznach              NaN         NaN   \n",
      "3     NaN    Coop  supermarket    Zürich    Bahnhofbrücke           1   \n",
      "4     NaN  Migros  supermarket    Zürich     Wengistrasse           7   \n",
      "...   ...     ...          ...       ...              ...         ...   \n",
      "3387  NaN     NaN  supermarket       NaN              NaN         NaN   \n",
      "3388  NaN  Migros  supermarket       NaN              NaN         NaN   \n",
      "3389  NaN     NaN  supermarket    Wil SG       Marktgasse          38   \n",
      "3390  NaN     NaN  supermarket  Adliswil  Dietlimoosplatz           1   \n",
      "3391  NaN    Coop  supermarket       NaN              NaN         NaN   \n",
      "\n",
      "     postcode                                      opening_hours  \n",
      "0         NaN  Mo-Th 08:00-19:00; Fr 08:00-20:00; Sa 08:00-17:00  \n",
      "1        8730  Mo-Th 08:00-19:00, Fr 08:00-20:00, Sa 07:30-17...  \n",
      "2        8730                                                NaN  \n",
      "3        8001                                  Mo-Sa 06:00-22:00  \n",
      "4        8004                          Mo-Sa 08:00-21:00; PH off  \n",
      "...       ...                                                ...  \n",
      "3387      NaN  Mo-Th 08:00-19:00; Fr 08:00-20:00; Sa 07:30-17:00  \n",
      "3388      NaN  Mo-Fr 07:30-19:00; Th 07:30-20:00; Sa 07:30-18:30  \n",
      "3389     9500                                                NaN  \n",
      "3390     8134                                                NaN  \n",
      "3391      NaN           Mo-Fr 7:00-19:00; Sa 08:00-17:00; PH off  \n",
      "\n",
      "[3392 rows x 8 columns]\n"
     ]
    }
   ],
   "source": [
    "# i)\n",
    "df3 = pd.DataFrame.from_records(df1.tags)\n",
    "df3 = df3[['type','brand', 'shop', 'addr:city', 'addr:street', 'addr:housenumber', 'addr:postcode', 'opening_hours' ]]\n",
    "df3 = df3.rename(columns={'addr:city': 'city',\n",
    "                          'addr:street':'street',\n",
    "                          'addr:housenumber': 'housenumber',\n",
    "                          'addr:postcode': 'postcode'})\n",
    "print(df3)"
   ]
  },
  {
   "cell_type": "code",
   "execution_count": 165,
   "metadata": {},
   "outputs": [
    {
     "ename": "KeyError",
     "evalue": "'opening_hours'",
     "output_type": "error",
     "traceback": [
      "\u001b[0;31m---------------------------------------------------------------------------\u001b[0m",
      "\u001b[0;31mKeyError\u001b[0m                                  Traceback (most recent call last)",
      "File \u001b[0;32m~/.local/lib/python3.10/site-packages/pandas/core/indexes/base.py:3653\u001b[0m, in \u001b[0;36mIndex.get_loc\u001b[0;34m(self, key)\u001b[0m\n\u001b[1;32m   3652\u001b[0m \u001b[39mtry\u001b[39;00m:\n\u001b[0;32m-> 3653\u001b[0m     \u001b[39mreturn\u001b[39;00m \u001b[39mself\u001b[39;49m\u001b[39m.\u001b[39;49m_engine\u001b[39m.\u001b[39;49mget_loc(casted_key)\n\u001b[1;32m   3654\u001b[0m \u001b[39mexcept\u001b[39;00m \u001b[39mKeyError\u001b[39;00m \u001b[39mas\u001b[39;00m err:\n",
      "File \u001b[0;32m~/.local/lib/python3.10/site-packages/pandas/_libs/index.pyx:147\u001b[0m, in \u001b[0;36mpandas._libs.index.IndexEngine.get_loc\u001b[0;34m()\u001b[0m\n",
      "File \u001b[0;32m~/.local/lib/python3.10/site-packages/pandas/_libs/index.pyx:176\u001b[0m, in \u001b[0;36mpandas._libs.index.IndexEngine.get_loc\u001b[0;34m()\u001b[0m\n",
      "File \u001b[0;32mpandas/_libs/hashtable_class_helper.pxi:7080\u001b[0m, in \u001b[0;36mpandas._libs.hashtable.PyObjectHashTable.get_item\u001b[0;34m()\u001b[0m\n",
      "File \u001b[0;32mpandas/_libs/hashtable_class_helper.pxi:7088\u001b[0m, in \u001b[0;36mpandas._libs.hashtable.PyObjectHashTable.get_item\u001b[0;34m()\u001b[0m\n",
      "\u001b[0;31mKeyError\u001b[0m: 'opening_hours'",
      "\nThe above exception was the direct cause of the following exception:\n",
      "\u001b[0;31mKeyError\u001b[0m                                  Traceback (most recent call last)",
      "\u001b[1;32m/workspaces/data_analytics/Week_02/supermarkets_data_preparation.ipynb Zelle 25\u001b[0m line \u001b[0;36m2\n\u001b[1;32m      <a href='vscode-notebook-cell://codespaces%2Burban-space-fortnight-7v9jprxp94qjfxw9w/workspaces/data_analytics/Week_02/supermarkets_data_preparation.ipynb#X35sdnNjb2RlLXJlbW90ZQ%3D%3D?line=0'>1</a>\u001b[0m \u001b[39m#j)\u001b[39;00m\n\u001b[0;32m----> <a href='vscode-notebook-cell://codespaces%2Burban-space-fortnight-7v9jprxp94qjfxw9w/workspaces/data_analytics/Week_02/supermarkets_data_preparation.ipynb#X35sdnNjb2RlLXJlbW90ZQ%3D%3D?line=1'>2</a>\u001b[0m df_filtered_supermarkets \u001b[39m=\u001b[39m df[df[\u001b[39m'\u001b[39;49m\u001b[39mopening_hours\u001b[39;49m\u001b[39m'\u001b[39;49m]\u001b[39m.\u001b[39mnotnull()]\n\u001b[1;32m      <a href='vscode-notebook-cell://codespaces%2Burban-space-fortnight-7v9jprxp94qjfxw9w/workspaces/data_analytics/Week_02/supermarkets_data_preparation.ipynb#X35sdnNjb2RlLXJlbW90ZQ%3D%3D?line=2'>3</a>\u001b[0m \u001b[39m#verstehe nicht wieso opening_hours nicht verfügabr ist\u001b[39;00m\n",
      "File \u001b[0;32m~/.local/lib/python3.10/site-packages/pandas/core/frame.py:3761\u001b[0m, in \u001b[0;36mDataFrame.__getitem__\u001b[0;34m(self, key)\u001b[0m\n\u001b[1;32m   3759\u001b[0m \u001b[39mif\u001b[39;00m \u001b[39mself\u001b[39m\u001b[39m.\u001b[39mcolumns\u001b[39m.\u001b[39mnlevels \u001b[39m>\u001b[39m \u001b[39m1\u001b[39m:\n\u001b[1;32m   3760\u001b[0m     \u001b[39mreturn\u001b[39;00m \u001b[39mself\u001b[39m\u001b[39m.\u001b[39m_getitem_multilevel(key)\n\u001b[0;32m-> 3761\u001b[0m indexer \u001b[39m=\u001b[39m \u001b[39mself\u001b[39;49m\u001b[39m.\u001b[39;49mcolumns\u001b[39m.\u001b[39;49mget_loc(key)\n\u001b[1;32m   3762\u001b[0m \u001b[39mif\u001b[39;00m is_integer(indexer):\n\u001b[1;32m   3763\u001b[0m     indexer \u001b[39m=\u001b[39m [indexer]\n",
      "File \u001b[0;32m~/.local/lib/python3.10/site-packages/pandas/core/indexes/base.py:3655\u001b[0m, in \u001b[0;36mIndex.get_loc\u001b[0;34m(self, key)\u001b[0m\n\u001b[1;32m   3653\u001b[0m     \u001b[39mreturn\u001b[39;00m \u001b[39mself\u001b[39m\u001b[39m.\u001b[39m_engine\u001b[39m.\u001b[39mget_loc(casted_key)\n\u001b[1;32m   3654\u001b[0m \u001b[39mexcept\u001b[39;00m \u001b[39mKeyError\u001b[39;00m \u001b[39mas\u001b[39;00m err:\n\u001b[0;32m-> 3655\u001b[0m     \u001b[39mraise\u001b[39;00m \u001b[39mKeyError\u001b[39;00m(key) \u001b[39mfrom\u001b[39;00m \u001b[39merr\u001b[39;00m\n\u001b[1;32m   3656\u001b[0m \u001b[39mexcept\u001b[39;00m \u001b[39mTypeError\u001b[39;00m:\n\u001b[1;32m   3657\u001b[0m     \u001b[39m# If we have a listlike key, _check_indexing_error will raise\u001b[39;00m\n\u001b[1;32m   3658\u001b[0m     \u001b[39m#  InvalidIndexError. Otherwise we fall through and re-raise\u001b[39;00m\n\u001b[1;32m   3659\u001b[0m     \u001b[39m#  the TypeError.\u001b[39;00m\n\u001b[1;32m   3660\u001b[0m     \u001b[39mself\u001b[39m\u001b[39m.\u001b[39m_check_indexing_error(key)\n",
      "\u001b[0;31mKeyError\u001b[0m: 'opening_hours'"
     ]
    }
   ],
   "source": [
    "#j)\n",
    "df_filtered_supermarkets = df[df['opening_hours'].notnull()]\n",
    "#verstehe nicht wieso opening_hours nicht verfügabr ist"
   ]
  },
  {
   "cell_type": "markdown",
   "id": "1c28c9ea",
   "metadata": {},
   "source": [
    "### Jupyter notebook --footer info-- (please always provide this at the end of each submitted notebook)"
   ]
  },
  {
   "cell_type": "code",
   "execution_count": null,
   "id": "7f5bf8aa",
   "metadata": {},
   "outputs": [
    {
     "name": "stdout",
     "output_type": "stream",
     "text": [
      "-----------------------------------\n",
      "POSIX\n",
      "Linux | 6.2.0-1015-azure\n",
      "Datetime: 2023-11-07 18:59:13\n",
      "Python Version: 3.10.13\n",
      "-----------------------------------\n"
     ]
    }
   ],
   "source": [
    "import os\n",
    "import platform\n",
    "import socket\n",
    "from platform import python_version\n",
    "from datetime import datetime\n",
    "\n",
    "print('-----------------------------------')\n",
    "print(os.name.upper())\n",
    "print(platform.system(), '|', platform.release())\n",
    "print('Datetime:', datetime.now().strftime(\"%Y-%m-%d %H:%M:%S\"))\n",
    "print('Python Version:', python_version())\n",
    "print('-----------------------------------')"
   ]
  }
 ],
 "metadata": {
  "kernelspec": {
   "display_name": "Python 3 (ipykernel)",
   "language": "python",
   "name": "python3"
  },
  "language_info": {
   "codemirror_mode": {
    "name": "ipython",
    "version": 3
   },
   "file_extension": ".py",
   "mimetype": "text/x-python",
   "name": "python",
   "nbconvert_exporter": "python",
   "pygments_lexer": "ipython3",
   "version": "3.10.13"
  }
 },
 "nbformat": 4,
 "nbformat_minor": 5
}
